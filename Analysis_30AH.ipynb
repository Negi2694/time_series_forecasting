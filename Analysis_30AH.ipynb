{
 "cells": [
  {
   "cell_type": "code",
   "execution_count": 34,
   "id": "30d4475e-af11-420b-a2a4-3bdef0423fb9",
   "metadata": {},
   "outputs": [],
   "source": [
    "import math\n",
    "from datetime import datetime as dt\n",
    "\n",
    "import pandas as pd\n",
    "import numpy as np\n",
    "import matplotlib.pyplot as plt\n",
    "\n",
    "import warnings\n",
    "warnings.filterwarnings('ignore')"
   ]
  },
  {
   "cell_type": "code",
   "execution_count": 4,
   "id": "17f32017-4541-45f1-aa9e-c93f0ea959f9",
   "metadata": {},
   "outputs": [
    {
     "name": "stdout",
     "output_type": "stream",
     "text": [
      "<class 'pandas.core.frame.DataFrame'>\n",
      "RangeIndex: 22699 entries, 0 to 22698\n",
      "Data columns (total 7 columns):\n",
      " #   Column  Non-Null Count  Dtype         \n",
      "---  ------  --------------  -----         \n",
      " 0   TIME    22699 non-null  datetime64[ns]\n",
      " 1   CH1     22699 non-null  float64       \n",
      " 2   CH2     22694 non-null  float64       \n",
      " 3   CH3     22694 non-null  object        \n",
      " 4   CH4     22693 non-null  float64       \n",
      " 5   CH5     22693 non-null  float64       \n",
      " 6   CH6     22693 non-null  object        \n",
      "dtypes: datetime64[ns](1), float64(4), object(2)\n",
      "memory usage: 1.2+ MB\n",
      "CPU times: total: 3.84 s\n",
      "Wall time: 6.73 s\n"
     ]
    },
    {
     "data": {
      "text/html": [
       "<div>\n",
       "<style scoped>\n",
       "    .dataframe tbody tr th:only-of-type {\n",
       "        vertical-align: middle;\n",
       "    }\n",
       "\n",
       "    .dataframe tbody tr th {\n",
       "        vertical-align: top;\n",
       "    }\n",
       "\n",
       "    .dataframe thead th {\n",
       "        text-align: right;\n",
       "    }\n",
       "</style>\n",
       "<table border=\"1\" class=\"dataframe\">\n",
       "  <thead>\n",
       "    <tr style=\"text-align: right;\">\n",
       "      <th></th>\n",
       "      <th>TIME</th>\n",
       "      <th>CH1</th>\n",
       "      <th>CH2</th>\n",
       "      <th>CH3</th>\n",
       "      <th>CH4</th>\n",
       "      <th>CH5</th>\n",
       "      <th>CH6</th>\n",
       "    </tr>\n",
       "  </thead>\n",
       "  <tbody>\n",
       "    <tr>\n",
       "      <th>0</th>\n",
       "      <td>2022-12-31 13:04:17.043</td>\n",
       "      <td>688.58</td>\n",
       "      <td>2500.0</td>\n",
       "      <td>4.99</td>\n",
       "      <td>54.67</td>\n",
       "      <td>7.6</td>\n",
       "      <td>50748</td>\n",
       "    </tr>\n",
       "    <tr>\n",
       "      <th>1</th>\n",
       "      <td>2022-12-31 13:04:17.714</td>\n",
       "      <td>677.94</td>\n",
       "      <td>2500.0</td>\n",
       "      <td>4.99</td>\n",
       "      <td>54.68</td>\n",
       "      <td>7.6</td>\n",
       "      <td>50718</td>\n",
       "    </tr>\n",
       "    <tr>\n",
       "      <th>2</th>\n",
       "      <td>2022-12-31 13:04:18.965</td>\n",
       "      <td>681.81</td>\n",
       "      <td>2500.0</td>\n",
       "      <td>4.92</td>\n",
       "      <td>54.66</td>\n",
       "      <td>7.6</td>\n",
       "      <td>50658</td>\n",
       "    </tr>\n",
       "    <tr>\n",
       "      <th>3</th>\n",
       "      <td>2022-12-31 13:04:20.246</td>\n",
       "      <td>680.20</td>\n",
       "      <td>2500.0</td>\n",
       "      <td>4.95</td>\n",
       "      <td>54.66</td>\n",
       "      <td>7.6</td>\n",
       "      <td>50598</td>\n",
       "    </tr>\n",
       "    <tr>\n",
       "      <th>4</th>\n",
       "      <td>2022-12-31 13:04:20.965</td>\n",
       "      <td>680.20</td>\n",
       "      <td>2500.0</td>\n",
       "      <td>4.93</td>\n",
       "      <td>54.67</td>\n",
       "      <td>7.6</td>\n",
       "      <td>50568</td>\n",
       "    </tr>\n",
       "    <tr>\n",
       "      <th>...</th>\n",
       "      <td>...</td>\n",
       "      <td>...</td>\n",
       "      <td>...</td>\n",
       "      <td>...</td>\n",
       "      <td>...</td>\n",
       "      <td>...</td>\n",
       "      <td>...</td>\n",
       "    </tr>\n",
       "    <tr>\n",
       "      <th>22694</th>\n",
       "      <td>2022-12-31 19:23:17.072</td>\n",
       "      <td>867.11</td>\n",
       "      <td>2500.0</td>\n",
       "      <td>0.02</td>\n",
       "      <td>64.16</td>\n",
       "      <td>7.6</td>\n",
       "      <td>1</td>\n",
       "    </tr>\n",
       "    <tr>\n",
       "      <th>22695</th>\n",
       "      <td>2022-12-31 19:23:18.338</td>\n",
       "      <td>868.40</td>\n",
       "      <td>2500.0</td>\n",
       "      <td>0.02</td>\n",
       "      <td>64.16</td>\n",
       "      <td>7.6</td>\n",
       "      <td>1</td>\n",
       "    </tr>\n",
       "    <tr>\n",
       "      <th>22696</th>\n",
       "      <td>2022-12-31 19:23:19.306</td>\n",
       "      <td>868.40</td>\n",
       "      <td>2500.0</td>\n",
       "      <td>0.02</td>\n",
       "      <td>64.15</td>\n",
       "      <td>7.6</td>\n",
       "      <td>1</td>\n",
       "    </tr>\n",
       "    <tr>\n",
       "      <th>22697</th>\n",
       "      <td>2022-12-31 19:23:20.291</td>\n",
       "      <td>867.44</td>\n",
       "      <td>2500.0</td>\n",
       "      <td>0.02</td>\n",
       "      <td>64.15</td>\n",
       "      <td>7.6</td>\n",
       "      <td>1</td>\n",
       "    </tr>\n",
       "    <tr>\n",
       "      <th>22698</th>\n",
       "      <td>2022-12-31 19:23:21.213</td>\n",
       "      <td>868.40</td>\n",
       "      <td>2500.0</td>\n",
       "      <td>0.02</td>\n",
       "      <td>64.15</td>\n",
       "      <td>7.6</td>\n",
       "      <td>1</td>\n",
       "    </tr>\n",
       "  </tbody>\n",
       "</table>\n",
       "<p>22699 rows × 7 columns</p>\n",
       "</div>"
      ],
      "text/plain": [
       "                         TIME     CH1     CH2   CH3    CH4  CH5    CH6\n",
       "0     2022-12-31 13:04:17.043  688.58  2500.0  4.99  54.67  7.6  50748\n",
       "1     2022-12-31 13:04:17.714  677.94  2500.0  4.99  54.68  7.6  50718\n",
       "2     2022-12-31 13:04:18.965  681.81  2500.0  4.92  54.66  7.6  50658\n",
       "3     2022-12-31 13:04:20.246  680.20  2500.0  4.95  54.66  7.6  50598\n",
       "4     2022-12-31 13:04:20.965  680.20  2500.0  4.93  54.67  7.6  50568\n",
       "...                       ...     ...     ...   ...    ...  ...    ...\n",
       "22694 2022-12-31 19:23:17.072  867.11  2500.0  0.02  64.16  7.6      1\n",
       "22695 2022-12-31 19:23:18.338  868.40  2500.0  0.02  64.16  7.6      1\n",
       "22696 2022-12-31 19:23:19.306  868.40  2500.0  0.02  64.15  7.6      1\n",
       "22697 2022-12-31 19:23:20.291  867.44  2500.0  0.02  64.15  7.6      1\n",
       "22698 2022-12-31 19:23:21.213  868.40  2500.0  0.02  64.15  7.6      1\n",
       "\n",
       "[22699 rows x 7 columns]"
      ]
     },
     "execution_count": 4,
     "metadata": {},
     "output_type": "execute_result"
    }
   ],
   "source": [
    "%%time\n",
    "# Documents/me/battery/charger 1 30 ah.xlsx\n",
    "df = pd.read_excel('./charger 1 30 ah.xlsx', \"TimeSeriesData\")\n",
    "df.info()\n",
    "df"
   ]
  },
  {
   "cell_type": "code",
   "execution_count": 35,
   "id": "e4c7074d-dced-4e02-a537-42040cc607fa",
   "metadata": {},
   "outputs": [],
   "source": [
    "df.columns = [\"Time\", \"CH1\", \"CH2\", \"Current\", \"Voltage\", \"CH5\", \"CH6\"]\n",
    "req_cols = [\"Time\", \"Current\", \"Voltage\",]\n",
    "df_selected = df[req_cols]"
   ]
  },
  {
   "cell_type": "code",
   "execution_count": 36,
   "id": "c14adcda-e4f9-4073-aab4-f45a7865a74b",
   "metadata": {},
   "outputs": [
    {
     "data": {
      "text/html": [
       "<div>\n",
       "<style scoped>\n",
       "    .dataframe tbody tr th:only-of-type {\n",
       "        vertical-align: middle;\n",
       "    }\n",
       "\n",
       "    .dataframe tbody tr th {\n",
       "        vertical-align: top;\n",
       "    }\n",
       "\n",
       "    .dataframe thead th {\n",
       "        text-align: right;\n",
       "    }\n",
       "</style>\n",
       "<table border=\"1\" class=\"dataframe\">\n",
       "  <thead>\n",
       "    <tr style=\"text-align: right;\">\n",
       "      <th></th>\n",
       "      <th>Time</th>\n",
       "      <th>Current</th>\n",
       "      <th>Voltage</th>\n",
       "      <th>Time_Lag1</th>\n",
       "      <th>Time_Snap</th>\n",
       "      <th>Time_Sec</th>\n",
       "    </tr>\n",
       "  </thead>\n",
       "  <tbody>\n",
       "    <tr>\n",
       "      <th>0</th>\n",
       "      <td>2022-12-31 13:04:17.043</td>\n",
       "      <td>4.99</td>\n",
       "      <td>54.67</td>\n",
       "      <td>NaT</td>\n",
       "      <td>NaN</td>\n",
       "      <td>0.000</td>\n",
       "    </tr>\n",
       "    <tr>\n",
       "      <th>1</th>\n",
       "      <td>2022-12-31 13:04:17.714</td>\n",
       "      <td>4.99</td>\n",
       "      <td>54.68</td>\n",
       "      <td>2022-12-31 13:04:17.043</td>\n",
       "      <td>0.671</td>\n",
       "      <td>0.671</td>\n",
       "    </tr>\n",
       "    <tr>\n",
       "      <th>2</th>\n",
       "      <td>2022-12-31 13:04:18.965</td>\n",
       "      <td>4.92</td>\n",
       "      <td>54.66</td>\n",
       "      <td>2022-12-31 13:04:17.714</td>\n",
       "      <td>1.251</td>\n",
       "      <td>1.922</td>\n",
       "    </tr>\n",
       "    <tr>\n",
       "      <th>3</th>\n",
       "      <td>2022-12-31 13:04:20.246</td>\n",
       "      <td>4.95</td>\n",
       "      <td>54.66</td>\n",
       "      <td>2022-12-31 13:04:18.965</td>\n",
       "      <td>1.281</td>\n",
       "      <td>3.203</td>\n",
       "    </tr>\n",
       "    <tr>\n",
       "      <th>4</th>\n",
       "      <td>2022-12-31 13:04:20.965</td>\n",
       "      <td>4.93</td>\n",
       "      <td>54.67</td>\n",
       "      <td>2022-12-31 13:04:20.246</td>\n",
       "      <td>0.719</td>\n",
       "      <td>3.922</td>\n",
       "    </tr>\n",
       "    <tr>\n",
       "      <th>...</th>\n",
       "      <td>...</td>\n",
       "      <td>...</td>\n",
       "      <td>...</td>\n",
       "      <td>...</td>\n",
       "      <td>...</td>\n",
       "      <td>...</td>\n",
       "    </tr>\n",
       "    <tr>\n",
       "      <th>22694</th>\n",
       "      <td>2022-12-31 19:23:17.072</td>\n",
       "      <td>0.02</td>\n",
       "      <td>64.16</td>\n",
       "      <td>2022-12-31 19:23:16.103</td>\n",
       "      <td>0.969</td>\n",
       "      <td>22740.029</td>\n",
       "    </tr>\n",
       "    <tr>\n",
       "      <th>22695</th>\n",
       "      <td>2022-12-31 19:23:18.338</td>\n",
       "      <td>0.02</td>\n",
       "      <td>64.16</td>\n",
       "      <td>2022-12-31 19:23:17.072</td>\n",
       "      <td>1.266</td>\n",
       "      <td>22741.295</td>\n",
       "    </tr>\n",
       "    <tr>\n",
       "      <th>22696</th>\n",
       "      <td>2022-12-31 19:23:19.306</td>\n",
       "      <td>0.02</td>\n",
       "      <td>64.15</td>\n",
       "      <td>2022-12-31 19:23:18.338</td>\n",
       "      <td>0.968</td>\n",
       "      <td>22742.263</td>\n",
       "    </tr>\n",
       "    <tr>\n",
       "      <th>22697</th>\n",
       "      <td>2022-12-31 19:23:20.291</td>\n",
       "      <td>0.02</td>\n",
       "      <td>64.15</td>\n",
       "      <td>2022-12-31 19:23:19.306</td>\n",
       "      <td>0.985</td>\n",
       "      <td>22743.248</td>\n",
       "    </tr>\n",
       "    <tr>\n",
       "      <th>22698</th>\n",
       "      <td>2022-12-31 19:23:21.213</td>\n",
       "      <td>0.02</td>\n",
       "      <td>64.15</td>\n",
       "      <td>2022-12-31 19:23:20.291</td>\n",
       "      <td>0.922</td>\n",
       "      <td>22744.170</td>\n",
       "    </tr>\n",
       "  </tbody>\n",
       "</table>\n",
       "<p>22699 rows × 6 columns</p>\n",
       "</div>"
      ],
      "text/plain": [
       "                         Time Current  Voltage               Time_Lag1  \\\n",
       "0     2022-12-31 13:04:17.043    4.99    54.67                     NaT   \n",
       "1     2022-12-31 13:04:17.714    4.99    54.68 2022-12-31 13:04:17.043   \n",
       "2     2022-12-31 13:04:18.965    4.92    54.66 2022-12-31 13:04:17.714   \n",
       "3     2022-12-31 13:04:20.246    4.95    54.66 2022-12-31 13:04:18.965   \n",
       "4     2022-12-31 13:04:20.965    4.93    54.67 2022-12-31 13:04:20.246   \n",
       "...                       ...     ...      ...                     ...   \n",
       "22694 2022-12-31 19:23:17.072    0.02    64.16 2022-12-31 19:23:16.103   \n",
       "22695 2022-12-31 19:23:18.338    0.02    64.16 2022-12-31 19:23:17.072   \n",
       "22696 2022-12-31 19:23:19.306    0.02    64.15 2022-12-31 19:23:18.338   \n",
       "22697 2022-12-31 19:23:20.291    0.02    64.15 2022-12-31 19:23:19.306   \n",
       "22698 2022-12-31 19:23:21.213    0.02    64.15 2022-12-31 19:23:20.291   \n",
       "\n",
       "       Time_Snap   Time_Sec  \n",
       "0            NaN      0.000  \n",
       "1          0.671      0.671  \n",
       "2          1.251      1.922  \n",
       "3          1.281      3.203  \n",
       "4          0.719      3.922  \n",
       "...          ...        ...  \n",
       "22694      0.969  22740.029  \n",
       "22695      1.266  22741.295  \n",
       "22696      0.968  22742.263  \n",
       "22697      0.985  22743.248  \n",
       "22698      0.922  22744.170  \n",
       "\n",
       "[22699 rows x 6 columns]"
      ]
     },
     "execution_count": 36,
     "metadata": {},
     "output_type": "execute_result"
    }
   ],
   "source": [
    "df_selected[\"Time_Lag1\"] = df_selected[\"Time\"].shift(1)\n",
    "df_selected[\"Time_Snap\"] = (df_selected[\"Time\"] - df_selected[\"Time_Lag1\"]).dt.total_seconds()\n",
    "df_selected[\"Time_Sec\"] = df_selected[\"Time_Snap\"].fillna(0).cumsum(axis=0)\n",
    "\n",
    "df_selected"
   ]
  },
  {
   "cell_type": "code",
   "execution_count": 10,
   "id": "a3e671ef-2397-4e60-83f7-522803e2611b",
   "metadata": {},
   "outputs": [
    {
     "data": {
      "image/png": "[encoded data removed]",
      "text/plain": [
       "<Figure size 432x288 with 1 Axes>"
      ]
     },
     "metadata": {
      "needs_background": "light"
     },
     "output_type": "display_data"
    }
   ],
   "source": [
    "plt.plot(df_selected[\"Time_Sec\"], df_selected[\"Voltage\"])\n",
    "plt.show()"
   ]
  },
  {
   "cell_type": "code",
   "execution_count": 11,
   "id": "83dd8a75-c96b-4d2b-b0c5-969b764fbb6b",
   "metadata": {},
   "outputs": [
    {
     "data": {
      "text/plain": [
       "66.94"
      ]
     },
     "execution_count": 11,
     "metadata": {},
     "output_type": "execute_result"
    }
   ],
   "source": [
    "max(df_selected.Voltage)"
   ]
  },
  {
   "cell_type": "code",
   "execution_count": 22,
   "id": "1bd822d4-ae0d-465d-adf0-cc17f55a683b",
   "metadata": {},
   "outputs": [
    {
     "name": "stdout",
     "output_type": "stream",
     "text": [
      "<class 'pandas.core.frame.DataFrame'>\n",
      "Int64Index: 22490 entries, 0 to 22489\n",
      "Data columns (total 6 columns):\n",
      " #   Column     Non-Null Count  Dtype         \n",
      "---  ------     --------------  -----         \n",
      " 0   Time       22490 non-null  datetime64[ns]\n",
      " 1   Current    22485 non-null  object        \n",
      " 2   Voltage    22484 non-null  float64       \n",
      " 3   Time_Lag1  22489 non-null  datetime64[ns]\n",
      " 4   Time_Snap  22489 non-null  float64       \n",
      " 5   Time_Sec   22490 non-null  float64       \n",
      "dtypes: datetime64[ns](2), float64(3), object(1)\n",
      "memory usage: 1.2+ MB\n"
     ]
    },
    {
     "data": {
      "text/html": [
       "<div>\n",
       "<style scoped>\n",
       "    .dataframe tbody tr th:only-of-type {\n",
       "        vertical-align: middle;\n",
       "    }\n",
       "\n",
       "    .dataframe tbody tr th {\n",
       "        vertical-align: top;\n",
       "    }\n",
       "\n",
       "    .dataframe thead th {\n",
       "        text-align: right;\n",
       "    }\n",
       "</style>\n",
       "<table border=\"1\" class=\"dataframe\">\n",
       "  <thead>\n",
       "    <tr style=\"text-align: right;\">\n",
       "      <th></th>\n",
       "      <th>Time</th>\n",
       "      <th>Current</th>\n",
       "      <th>Voltage</th>\n",
       "      <th>Time_Lag1</th>\n",
       "      <th>Time_Snap</th>\n",
       "      <th>Time_Sec</th>\n",
       "    </tr>\n",
       "  </thead>\n",
       "  <tbody>\n",
       "    <tr>\n",
       "      <th>0</th>\n",
       "      <td>2022-12-31 13:04:17.043</td>\n",
       "      <td>4.99</td>\n",
       "      <td>54.67</td>\n",
       "      <td>NaT</td>\n",
       "      <td>NaN</td>\n",
       "      <td>0.000</td>\n",
       "    </tr>\n",
       "    <tr>\n",
       "      <th>1</th>\n",
       "      <td>2022-12-31 13:04:17.714</td>\n",
       "      <td>4.99</td>\n",
       "      <td>54.68</td>\n",
       "      <td>2022-12-31 13:04:17.043</td>\n",
       "      <td>0.671</td>\n",
       "      <td>0.671</td>\n",
       "    </tr>\n",
       "    <tr>\n",
       "      <th>2</th>\n",
       "      <td>2022-12-31 13:04:18.965</td>\n",
       "      <td>4.92</td>\n",
       "      <td>54.66</td>\n",
       "      <td>2022-12-31 13:04:17.714</td>\n",
       "      <td>1.251</td>\n",
       "      <td>1.922</td>\n",
       "    </tr>\n",
       "    <tr>\n",
       "      <th>3</th>\n",
       "      <td>2022-12-31 13:04:20.246</td>\n",
       "      <td>4.95</td>\n",
       "      <td>54.66</td>\n",
       "      <td>2022-12-31 13:04:18.965</td>\n",
       "      <td>1.281</td>\n",
       "      <td>3.203</td>\n",
       "    </tr>\n",
       "    <tr>\n",
       "      <th>4</th>\n",
       "      <td>2022-12-31 13:04:20.965</td>\n",
       "      <td>4.93</td>\n",
       "      <td>54.67</td>\n",
       "      <td>2022-12-31 13:04:20.246</td>\n",
       "      <td>0.719</td>\n",
       "      <td>3.922</td>\n",
       "    </tr>\n",
       "    <tr>\n",
       "      <th>...</th>\n",
       "      <td>...</td>\n",
       "      <td>...</td>\n",
       "      <td>...</td>\n",
       "      <td>...</td>\n",
       "      <td>...</td>\n",
       "      <td>...</td>\n",
       "    </tr>\n",
       "    <tr>\n",
       "      <th>22485</th>\n",
       "      <td>2022-12-31 19:19:48.622</td>\n",
       "      <td>1.93</td>\n",
       "      <td>66.93</td>\n",
       "      <td>2022-12-31 19:19:47.981</td>\n",
       "      <td>0.641</td>\n",
       "      <td>22531.579</td>\n",
       "    </tr>\n",
       "    <tr>\n",
       "      <th>22486</th>\n",
       "      <td>2022-12-31 19:19:49.887</td>\n",
       "      <td>1.93</td>\n",
       "      <td>66.93</td>\n",
       "      <td>2022-12-31 19:19:48.622</td>\n",
       "      <td>1.265</td>\n",
       "      <td>22532.844</td>\n",
       "    </tr>\n",
       "    <tr>\n",
       "      <th>22487</th>\n",
       "      <td>2022-12-31 19:19:50.528</td>\n",
       "      <td>1.93</td>\n",
       "      <td>66.93</td>\n",
       "      <td>2022-12-31 19:19:49.887</td>\n",
       "      <td>0.641</td>\n",
       "      <td>22533.485</td>\n",
       "    </tr>\n",
       "    <tr>\n",
       "      <th>22488</th>\n",
       "      <td>2022-12-31 19:19:51.809</td>\n",
       "      <td>1.92</td>\n",
       "      <td>66.93</td>\n",
       "      <td>2022-12-31 19:19:50.528</td>\n",
       "      <td>1.281</td>\n",
       "      <td>22534.766</td>\n",
       "    </tr>\n",
       "    <tr>\n",
       "      <th>22489</th>\n",
       "      <td>2022-12-31 19:19:52.450</td>\n",
       "      <td>1.93</td>\n",
       "      <td>66.94</td>\n",
       "      <td>2022-12-31 19:19:51.809</td>\n",
       "      <td>0.641</td>\n",
       "      <td>22535.407</td>\n",
       "    </tr>\n",
       "  </tbody>\n",
       "</table>\n",
       "<p>22490 rows × 6 columns</p>\n",
       "</div>"
      ],
      "text/plain": [
       "                         Time Current  Voltage               Time_Lag1  \\\n",
       "0     2022-12-31 13:04:17.043    4.99    54.67                     NaT   \n",
       "1     2022-12-31 13:04:17.714    4.99    54.68 2022-12-31 13:04:17.043   \n",
       "2     2022-12-31 13:04:18.965    4.92    54.66 2022-12-31 13:04:17.714   \n",
       "3     2022-12-31 13:04:20.246    4.95    54.66 2022-12-31 13:04:18.965   \n",
       "4     2022-12-31 13:04:20.965    4.93    54.67 2022-12-31 13:04:20.246   \n",
       "...                       ...     ...      ...                     ...   \n",
       "22485 2022-12-31 19:19:48.622    1.93    66.93 2022-12-31 19:19:47.981   \n",
       "22486 2022-12-31 19:19:49.887    1.93    66.93 2022-12-31 19:19:48.622   \n",
       "22487 2022-12-31 19:19:50.528    1.93    66.93 2022-12-31 19:19:49.887   \n",
       "22488 2022-12-31 19:19:51.809    1.92    66.93 2022-12-31 19:19:50.528   \n",
       "22489 2022-12-31 19:19:52.450    1.93    66.94 2022-12-31 19:19:51.809   \n",
       "\n",
       "       Time_Snap   Time_Sec  \n",
       "0            NaN      0.000  \n",
       "1          0.671      0.671  \n",
       "2          1.251      1.922  \n",
       "3          1.281      3.203  \n",
       "4          0.719      3.922  \n",
       "...          ...        ...  \n",
       "22485      0.641  22531.579  \n",
       "22486      1.265  22532.844  \n",
       "22487      0.641  22533.485  \n",
       "22488      1.281  22534.766  \n",
       "22489      0.641  22535.407  \n",
       "\n",
       "[22490 rows x 6 columns]"
      ]
     },
     "execution_count": 22,
     "metadata": {},
     "output_type": "execute_result"
    }
   ],
   "source": [
    "# df_selected.where(df_selected.Voltage == max(df_selected.Voltage))[\"Time_Sec\"]\n",
    "df_selected_filtered = df_selected.query(\"Time_Sec <= 22536\")\n",
    "df_selected_filtered.info()\n",
    "df_selected_filtered"
   ]
  },
  {
   "cell_type": "code",
   "execution_count": 135,
   "id": "eadad64a-3654-4925-b058-0859ae0a82c9",
   "metadata": {},
   "outputs": [],
   "source": [
    "df_selected_filtered.dropna(inplace=True)\n",
    "x = df_selected_filtered[\"Time_Sec\"]\n",
    "y = df_selected_filtered[\"Voltage\"]"
   ]
  },
  {
   "cell_type": "code",
   "execution_count": 136,
   "id": "a576e7cf-571b-4c2e-99bd-70303e8b75e9",
   "metadata": {},
   "outputs": [
    {
     "data": {
      "image/png": "[encoded data removed]",
      "text/plain": [
       "<Figure size 432x288 with 1 Axes>"
      ]
     },
     "metadata": {
      "needs_background": "light"
     },
     "output_type": "display_data"
    }
   ],
   "source": [
    "plt.plot(x, y)\n",
    "plt.show()"
   ]
  },
  {
   "cell_type": "code",
   "execution_count": 137,
   "id": "d84e92e2-1e54-44af-9804-ea0a298ca9dc",
   "metadata": {},
   "outputs": [],
   "source": [
    "model1 = np.poly1d(np.polyfit(x, y, 1))\n",
    "model2 = np.poly1d(np.polyfit(x, y, 2))\n",
    "model3 = np.poly1d(np.polyfit(x, y, 3))\n",
    "model4 = np.poly1d(np.polyfit(x, y, 4))\n",
    "model5 = np.poly1d(np.polyfit(x, y, 5))"
   ]
  },
  {
   "cell_type": "code",
   "execution_count": 141,
   "id": "604a8a65-d87f-4956-aca5-7d62565ff06e",
   "metadata": {},
   "outputs": [
    {
     "data": {
      "image/png": "[encoded data removed]",
      "text/plain": [
       "<Figure size 432x288 with 1 Axes>"
      ]
     },
     "metadata": {
      "needs_background": "light"
     },
     "output_type": "display_data"
    }
   ],
   "source": [
    "#create scatterplot\n",
    "polyline = np.linspace(1, x.shape[0], 50)\n",
    "plt.plot(x, y, color='grey')\n",
    "\n",
    "#add fitted polynomial lines to scatterplot \n",
    "plt.plot(polyline, model1(polyline), '--', color='green')\n",
    "plt.plot(polyline, model2(polyline), '--', color='red')\n",
    "plt.plot(polyline, model3(polyline), '--', color='purple')\n",
    "plt.plot(polyline, model4(polyline), '--', color='blue')\n",
    "plt.plot(polyline, model5(polyline), '--', color='orange')\n",
    "plt.show()"
   ]
  },
  {
   "cell_type": "code",
   "execution_count": 142,
   "id": "9d0ddb66-3a78-41a6-99fe-fea76093e9f0",
   "metadata": {},
   "outputs": [
    {
     "data": {
      "text/plain": [
       "[{'r_squared': 0.9818152210005754},\n",
       " {'r_squared': 0.9866760151307875},\n",
       " {'r_squared': 0.9923862678756618},\n",
       " {'r_squared': 0.9972826824501907},\n",
       " {'r_squared': 0.9981454476330579}]"
      ]
     },
     "execution_count": 142,
     "metadata": {},
     "output_type": "execute_result"
    }
   ],
   "source": [
    "#define function to calculate adjusted r-squared\n",
    "def adjR(x, y, degree):\n",
    "    results = {}\n",
    "    coeffs = np.polyfit(x, y, degree)\n",
    "    p = np.poly1d(coeffs)\n",
    "    yhat = p(x)\n",
    "    ybar = np.sum(y)/len(y)\n",
    "    ssreg = np.sum((yhat-ybar)**2)\n",
    "    sstot = np.sum((y - ybar)**2)\n",
    "    results['r_squared'] = 1- (((1-(ssreg/sstot))*(len(y)-1))/(len(y)-degree-1))\n",
    "\n",
    "    return results\n",
    "\n",
    "#calculated adjusted R-squared of each model\n",
    "r_sqr = list()\n",
    "for i in [1,2,3,4,5]:\n",
    "    r_sqr.append(adjR(x, y, i))\n",
    "    \n",
    "r_sqr"
   ]
  },
  {
   "cell_type": "code",
   "execution_count": 163,
   "id": "da064048-2d6e-467d-abfc-1922aac57eb3",
   "metadata": {},
   "outputs": [
    {
     "name": "stdout",
     "output_type": "stream",
     "text": [
      "Best Model : 5\n"
     ]
    }
   ],
   "source": [
    "r_sqr_values = [i[\"r_squared\"] for i in r_sqr]\n",
    "best_model = r_sqr_values.index(max(r_sqr_values))+1\n",
    "coeffs = globals()[f\"model{best_model}\"]\n",
    "print(f\"Best Model : {best_model}\")"
   ]
  },
  {
   "cell_type": "code",
   "execution_count": 164,
   "id": "5ff623e6-8c91-42d8-9926-17840d70f0c2",
   "metadata": {},
   "outputs": [
    {
     "data": {
      "image/png": "[encoded data removed]",
      "text/plain": [
       "<Figure size 432x288 with 1 Axes>"
      ]
     },
     "metadata": {
      "needs_background": "light"
     },
     "output_type": "display_data"
    }
   ],
   "source": [
    "plt.plot(df_selected_filtered.Time_Sec, y)\n",
    "plt.plot(polyline, coeffs(polyline), '--', color='red')\n",
    "plt.show()"
   ]
  },
  {
   "cell_type": "code",
   "execution_count": 165,
   "id": "1e4cf523-a0c8-40a0-8e02-cce7bf84546f",
   "metadata": {},
   "outputs": [],
   "source": [
    "# + poly[1]x(n-2) + .. + poly[n-1]\n",
    "def horner(poly, n, x):\n",
    " \n",
    "    # Initialize result\n",
    "    result = poly[0]\n",
    " \n",
    "    # Evaluate value of polynomial\n",
    "    # using Horner's method\n",
    "    for i in range(1, n):\n",
    " \n",
    "        result = result*x + poly[i]\n",
    "        # print(result)\n",
    " \n",
    "    return result"
   ]
  },
  {
   "cell_type": "code",
   "execution_count": 166,
   "id": "ef962c7c-8c3e-4b9e-9525-c37d6a0b3213",
   "metadata": {},
   "outputs": [
    {
     "name": "stdout",
     "output_type": "stream",
     "text": [
      "Value of polynomial is: 66.81599555996881\n"
     ]
    }
   ],
   "source": [
    "poly = [i for i in coeffs]\n",
    "print(\"Value of polynomial is:\", horner(poly, len(poly), 20000))"
   ]
  },
  {
   "cell_type": "code",
   "execution_count": null,
   "id": "473ced76-6b44-4ddb-93c6-0651967c2330",
   "metadata": {},
   "outputs": [],
   "source": []
  }
 ],
 "metadata": {
  "kernelspec": {
   "display_name": "series_forecasting",
   "language": "python",
   "name": "series_forecast"
  },
  "language_info": {
   "codemirror_mode": {
    "name": "ipython",
    "version": 3
   },
   "file_extension": ".py",
   "mimetype": "text/x-python",
   "name": "python",
   "nbconvert_exporter": "python",
   "pygments_lexer": "ipython3",
   "version": "3.9.12"
  }
 },
 "nbformat": 4,
 "nbformat_minor": 5
}
